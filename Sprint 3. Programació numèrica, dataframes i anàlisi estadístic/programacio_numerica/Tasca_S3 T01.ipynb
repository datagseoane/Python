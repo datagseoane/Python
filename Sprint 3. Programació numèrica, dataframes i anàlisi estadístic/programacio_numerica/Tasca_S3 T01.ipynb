{
 "cells": [
  {
   "cell_type": "markdown",
   "metadata": {},
   "source": [
    "## Tasca S3 T01"
   ]
  },
  {
   "cell_type": "code",
   "execution_count": 1,
   "metadata": {},
   "outputs": [],
   "source": [
    "import numpy as np"
   ]
  },
  {
   "cell_type": "markdown",
   "metadata": {},
   "source": [
    "### Exercici 1"
   ]
  },
  {
   "cell_type": "markdown",
   "metadata": {},
   "source": [
    "*Crea una funció que donat un Array d’una dimensió, et faci un resum estadístic bàsic de les dades. Si detecta que l’array té més d’una dimensió, ha de mostrar un missatge d’error.*"
   ]
  },
  {
   "cell_type": "code",
   "execution_count": 2,
   "metadata": {},
   "outputs": [],
   "source": [
    "def stat_basic(arr):\n",
    "    if arr.ndim <= 1:\n",
    "        print(f'media aritmetica: {np.mean(arr)}')\n",
    "        print(f'mediana: {np.median(arr)}')\n",
    "        print(f'desviación tipica: {np.std(arr)}')\n",
    "        print(f'varianza: {np.var(arr)}')\n",
    "    else:\n",
    "        print('ERROR')"
   ]
  },
  {
   "cell_type": "code",
   "execution_count": 3,
   "metadata": {},
   "outputs": [
    {
     "name": "stdout",
     "output_type": "stream",
     "text": [
      "media aritmetica: 5.0\n",
      "mediana: 5.0\n",
      "desviación tipica: 1.632993161855452\n",
      "varianza: 2.6666666666666665\n"
     ]
    }
   ],
   "source": [
    "arr1 = np.array([3,5,7])\n",
    "\n",
    "stat_basic(arr1)"
   ]
  },
  {
   "cell_type": "markdown",
   "metadata": {},
   "source": [
    "### Exercici 2"
   ]
  },
  {
   "cell_type": "markdown",
   "metadata": {},
   "source": [
    "Crea una funció que et generi un quadrat NxN de nombres aleatoris entre el 0 i el 100."
   ]
  },
  {
   "cell_type": "code",
   "execution_count": 4,
   "metadata": {},
   "outputs": [],
   "source": [
    "def matriu_quadrat():\n",
    "    N = int(input(\"Enter N: \"))\n",
    "    \n",
    "    #valors aleatoris entre el 0 i el 100.\n",
    "    return np.random.randint(101, size=(N,N)) "
   ]
  },
  {
   "cell_type": "code",
   "execution_count": 5,
   "metadata": {
    "scrolled": true
   },
   "outputs": [
    {
     "name": "stdout",
     "output_type": "stream",
     "text": [
      "Enter N: 3\n"
     ]
    },
    {
     "data": {
      "text/plain": [
       "array([[55, 15, 49],\n",
       "       [ 4, 93, 80],\n",
       "       [68, 84, 38]])"
      ]
     },
     "execution_count": 5,
     "metadata": {},
     "output_type": "execute_result"
    }
   ],
   "source": [
    "matriu_quadrat()"
   ]
  },
  {
   "cell_type": "markdown",
   "metadata": {},
   "source": [
    "### Exercici 3"
   ]
  },
  {
   "cell_type": "markdown",
   "metadata": {},
   "source": [
    "Crea una funció que donada una taula de dues dimensions (NxM), et calculi els totals per fila i els totals per columna."
   ]
  },
  {
   "cell_type": "code",
   "execution_count": 6,
   "metadata": {},
   "outputs": [],
   "source": [
    "def matriu_totals():\n",
    "    N = int(input(\"Enter número files: \"))\n",
    "    M = int(input(\"Enter número columnes: \"))\n",
    "    \n",
    "    array = np.random.randint(10, size=(N,M)) #valors aleatoris entre el 0 i el 10.\n",
    "    \n",
    "    print(array)\n",
    "    \n",
    "    return np.sum(array, axis=1), np.sum(array, axis=0) #calcul totals fila i columna"
   ]
  },
  {
   "cell_type": "code",
   "execution_count": 7,
   "metadata": {},
   "outputs": [
    {
     "name": "stdout",
     "output_type": "stream",
     "text": [
      "Enter número files: 5\n",
      "Enter número columnes: 7\n",
      "[[5 9 9 8 4 0 5]\n",
      " [5 7 9 1 2 0 0]\n",
      " [1 1 7 1 6 4 0]\n",
      " [4 6 2 6 6 6 2]\n",
      " [8 6 9 2 3 1 3]]\n"
     ]
    },
    {
     "data": {
      "text/plain": [
       "(array([40, 24, 20, 32, 32]), array([23, 29, 36, 18, 21, 11, 10]))"
      ]
     },
     "execution_count": 7,
     "metadata": {},
     "output_type": "execute_result"
    }
   ],
   "source": [
    "matriu_totals()"
   ]
  },
  {
   "cell_type": "markdown",
   "metadata": {},
   "source": [
    "### Exercici 4"
   ]
  },
  {
   "cell_type": "markdown",
   "metadata": {},
   "source": [
    "Implementa manualment una funció que calculi el coeficient de correlació. Informa-te'n sobre els seus usos i interpretació."
   ]
  },
  {
   "cell_type": "code",
   "execution_count": 8,
   "metadata": {},
   "outputs": [],
   "source": [
    "#Prueba de coeficiente de correlación entre dos variables (altura y peso)\n",
    "altura = np.array([1.75, 1.59, 1.66, 1.66, 1.68])\n",
    "peso = np.array([82, 68, 70, 61, 70])"
   ]
  },
  {
   "cell_type": "code",
   "execution_count": 9,
   "metadata": {},
   "outputs": [
    {
     "name": "stdout",
     "output_type": "stream",
     "text": [
      "5\n"
     ]
    }
   ],
   "source": [
    "#Número total de elementos\n",
    "n = len(altura)\n",
    "print(n)"
   ]
  },
  {
   "cell_type": "code",
   "execution_count": 10,
   "metadata": {},
   "outputs": [
    {
     "name": "stdout",
     "output_type": "stream",
     "text": [
      "1.668\n"
     ]
    }
   ],
   "source": [
    "#Calcular la media de X\n",
    "x_mean = np.mean(altura)\n",
    "print(x_mean)"
   ]
  },
  {
   "cell_type": "code",
   "execution_count": 11,
   "metadata": {},
   "outputs": [
    {
     "name": "stdout",
     "output_type": "stream",
     "text": [
      "70.2\n"
     ]
    }
   ],
   "source": [
    "#Calcular la media de Y\n",
    "y_mean = np.mean(peso)\n",
    "print(y_mean)"
   ]
  },
  {
   "cell_type": "code",
   "execution_count": 12,
   "metadata": {},
   "outputs": [
    {
     "name": "stdout",
     "output_type": "stream",
     "text": [
      "0.051146847410177665\n"
     ]
    }
   ],
   "source": [
    "#calcular la desviación estandard de X\n",
    "st_dev_x = np.std(altura)\n",
    "print(st_dev_x)"
   ]
  },
  {
   "cell_type": "code",
   "execution_count": 13,
   "metadata": {},
   "outputs": [
    {
     "name": "stdout",
     "output_type": "stream",
     "text": [
      "6.764613810115105\n"
     ]
    }
   ],
   "source": [
    "#Calcular la desviación estandard de Y\n",
    "st_dev_y = np.std(peso)\n",
    "print(st_dev_y)"
   ]
  },
  {
   "cell_type": "code",
   "execution_count": 14,
   "metadata": {},
   "outputs": [],
   "source": [
    "def num1(altura):\n",
    "    list = []\n",
    "\n",
    "    for n in altura:\n",
    "        var1 = n - x_mean\n",
    "        list.append(var1)\n",
    "    \n",
    "    return list"
   ]
  },
  {
   "cell_type": "code",
   "execution_count": 15,
   "metadata": {},
   "outputs": [],
   "source": [
    "def num2(peso):\n",
    "    list1 = []\n",
    "    \n",
    "    for p in peso:\n",
    "        var2 = p - y_mean\n",
    "        list1.append(var2)\n",
    "    \n",
    "    return list1"
   ]
  },
  {
   "cell_type": "code",
   "execution_count": 16,
   "metadata": {},
   "outputs": [
    {
     "data": {
      "text/plain": [
       "[0.08200000000000007,\n",
       " -0.07799999999999985,\n",
       " -0.008000000000000007,\n",
       " -0.008000000000000007,\n",
       " 0.01200000000000001]"
      ]
     },
     "execution_count": 16,
     "metadata": {},
     "output_type": "execute_result"
    }
   ],
   "source": [
    "#Calcular desviación de cada punto \"X\" respecto a la media \n",
    "num1(altura)"
   ]
  },
  {
   "cell_type": "code",
   "execution_count": 17,
   "metadata": {},
   "outputs": [
    {
     "data": {
      "text/plain": [
       "[11.799999999999997,\n",
       " -2.200000000000003,\n",
       " -0.20000000000000284,\n",
       " -9.200000000000003,\n",
       " -0.20000000000000284]"
      ]
     },
     "execution_count": 17,
     "metadata": {},
     "output_type": "execute_result"
    }
   ],
   "source": [
    "#Calcular desviación de cada punto \"Y\" respecto a la media \n",
    "num2(peso)"
   ]
  },
  {
   "cell_type": "code",
   "execution_count": 18,
   "metadata": {},
   "outputs": [
    {
     "name": "stdout",
     "output_type": "stream",
     "text": [
      "1.2120000000000009\n"
     ]
    }
   ],
   "source": [
    "#Completamos el numerador de la ecuación\n",
    "var3 = sum(np.multiply(num1(altura),num2(peso)))\n",
    "print(var3)"
   ]
  },
  {
   "cell_type": "code",
   "execution_count": 19,
   "metadata": {},
   "outputs": [
    {
     "name": "stdout",
     "output_type": "stream",
     "text": [
      "0.70060098\n"
     ]
    }
   ],
   "source": [
    "#Hallamos el coeficiente de correlación\n",
    "r = (1/n)*(var3)/(st_dev_x*st_dev_y)\n",
    "print(round(r, 8))"
   ]
  },
  {
   "cell_type": "code",
   "execution_count": 20,
   "metadata": {},
   "outputs": [
    {
     "data": {
      "text/plain": [
       "array([[1.        , 0.70060098],\n",
       "       [0.70060098, 1.        ]])"
      ]
     },
     "execution_count": 20,
     "metadata": {},
     "output_type": "execute_result"
    }
   ],
   "source": [
    "#Comparamos el resultado obtenido con el de la formula\n",
    "np.corrcoef(altura, peso)"
   ]
  },
  {
   "cell_type": "markdown",
   "metadata": {},
   "source": [
    "Existeix una correlació positiva, on alçada i pes estan fortament relacionats"
   ]
  }
 ],
 "metadata": {
  "kernelspec": {
   "display_name": "Python 3 (ipykernel)",
   "language": "python",
   "name": "python3"
  },
  "language_info": {
   "codemirror_mode": {
    "name": "ipython",
    "version": 3
   },
   "file_extension": ".py",
   "mimetype": "text/x-python",
   "name": "python",
   "nbconvert_exporter": "python",
   "pygments_lexer": "ipython3",
   "version": "3.9.12"
  },
  "toc": {
   "base_numbering": 1,
   "nav_menu": {},
   "number_sections": true,
   "sideBar": true,
   "skip_h1_title": true,
   "title_cell": "Table of Contents",
   "title_sidebar": "Contents",
   "toc_cell": true,
   "toc_position": {
    "height": "calc(100% - 180px)",
    "left": "10px",
    "top": "150px",
    "width": "190px"
   },
   "toc_section_display": true,
   "toc_window_display": true
  },
  "varInspector": {
   "cols": {
    "lenName": 16,
    "lenType": 16,
    "lenVar": 40
   },
   "kernels_config": {
    "python": {
     "delete_cmd_postfix": "",
     "delete_cmd_prefix": "del ",
     "library": "var_list.py",
     "varRefreshCmd": "print(var_dic_list())"
    },
    "r": {
     "delete_cmd_postfix": ") ",
     "delete_cmd_prefix": "rm(",
     "library": "var_list.r",
     "varRefreshCmd": "cat(var_dic_list()) "
    }
   },
   "types_to_exclude": [
    "module",
    "function",
    "builtin_function_or_method",
    "instance",
    "_Feature"
   ],
   "window_display": false
  }
 },
 "nbformat": 4,
 "nbformat_minor": 2
}
